{
 "cells": [
  {
   "cell_type": "code",
   "execution_count": 2,
   "id": "c7fa0584-fe1e-4f10-bd2e-ca8bfdd59653",
   "metadata": {},
   "outputs": [
    {
     "name": "stderr",
     "output_type": "stream",
     "text": [
      "2025-01-08 12:45:03.808 Thread 'MainThread': missing ScriptRunContext! This warning can be ignored when running in bare mode.\n",
      "2025-01-08 12:45:03.835 Thread 'MainThread': missing ScriptRunContext! This warning can be ignored when running in bare mode.\n",
      "2025-01-08 12:45:03.855 Thread 'MainThread': missing ScriptRunContext! This warning can be ignored when running in bare mode.\n",
      "2025-01-08 12:45:03.857 Thread 'MainThread': missing ScriptRunContext! This warning can be ignored when running in bare mode.\n",
      "2025-01-08 12:45:03.864 Thread 'MainThread': missing ScriptRunContext! This warning can be ignored when running in bare mode.\n",
      "2025-01-08 12:45:03.866 Thread 'MainThread': missing ScriptRunContext! This warning can be ignored when running in bare mode.\n",
      "2025-01-08 12:45:03.871 Thread 'MainThread': missing ScriptRunContext! This warning can be ignored when running in bare mode.\n",
      "2025-01-08 12:45:03.877 Thread 'MainThread': missing ScriptRunContext! This warning can be ignored when running in bare mode.\n",
      "2025-01-08 12:45:03.881 Thread 'MainThread': missing ScriptRunContext! This warning can be ignored when running in bare mode.\n",
      "2025-01-08 12:45:03.898 Thread 'MainThread': missing ScriptRunContext! This warning can be ignored when running in bare mode.\n",
      "2025-01-08 12:45:03.919 Thread 'MainThread': missing ScriptRunContext! This warning can be ignored when running in bare mode.\n",
      "2025-01-08 12:45:03.931 Thread 'MainThread': missing ScriptRunContext! This warning can be ignored when running in bare mode.\n",
      "2025-01-08 12:45:03.956 Thread 'MainThread': missing ScriptRunContext! This warning can be ignored when running in bare mode.\n",
      "2025-01-08 12:45:03.963 Thread 'MainThread': missing ScriptRunContext! This warning can be ignored when running in bare mode.\n",
      "2025-01-08 12:45:03.967 Thread 'MainThread': missing ScriptRunContext! This warning can be ignored when running in bare mode.\n",
      "2025-01-08 12:45:03.987 Thread 'MainThread': missing ScriptRunContext! This warning can be ignored when running in bare mode.\n",
      "2025-01-08 12:45:03.993 Thread 'MainThread': missing ScriptRunContext! This warning can be ignored when running in bare mode.\n",
      "2025-01-08 12:45:04.001 Thread 'MainThread': missing ScriptRunContext! This warning can be ignored when running in bare mode.\n",
      "2025-01-08 12:45:04.004 Thread 'MainThread': missing ScriptRunContext! This warning can be ignored when running in bare mode.\n",
      "2025-01-08 12:45:04.010 Thread 'MainThread': missing ScriptRunContext! This warning can be ignored when running in bare mode.\n",
      "2025-01-08 12:45:04.015 Thread 'MainThread': missing ScriptRunContext! This warning can be ignored when running in bare mode.\n",
      "2025-01-08 12:45:04.024 Thread 'MainThread': missing ScriptRunContext! This warning can be ignored when running in bare mode.\n",
      "2025-01-08 12:45:04.028 Thread 'MainThread': missing ScriptRunContext! This warning can be ignored when running in bare mode.\n",
      "2025-01-08 12:45:04.036 Thread 'MainThread': missing ScriptRunContext! This warning can be ignored when running in bare mode.\n",
      "2025-01-08 12:45:04.040 Thread 'MainThread': missing ScriptRunContext! This warning can be ignored when running in bare mode.\n",
      "2025-01-08 12:45:04.042 Thread 'MainThread': missing ScriptRunContext! This warning can be ignored when running in bare mode.\n"
     ]
    }
   ],
   "source": [
    "import numpy as np\n",
    "import pandas as pd\n",
    "import streamlit as st\n",
    "import matplotlib.pyplot as plt\n",
    "import joblib\n",
    "\n",
    "# 1. Load the pre-trained Holt-Winters model\n",
    "model = joblib.load('model.joblib')  # Replace 'model.joblib' with the actual file name\n",
    "\n",
    "# 2. Streamlit App UI\n",
    "st.title(\"Stock Market Prediction Using Holt-Winters\")\n",
    "\n",
    "\n",
    "# User Input Section\n",
    "st.write(\"### Forecast Future Returns:\")\n",
    "\n",
    "# Input for the number of future days to predict\n",
    "forecast_days = st.number_input(\"Enter the number of days to forecast:\", value=30, step=1)\n",
    "\n",
    "# Input for start date\n",
    "start_date = st.date_input(\"Start date for forecasting\", pd.Timestamp.now().date())\n",
    "\n",
    "# Predict future returns when the user clicks the button\n",
    "if st.button('Predict Future Returns'):\n",
    "    # Generate future forecast\n",
    "    future_forecast = model.forecast(forecast_days)\n",
    "    forecast_dates = pd.date_range(start=start_date, periods=forecast_days, freq='B')  # Business days\n",
    "\n",
    "    # Display forecasted values\n",
    "    forecast_df = pd.DataFrame({'Date': forecast_dates, 'Forecasted Returns': future_forecast})\n",
    "    st.write(\"### Forecasted Values:\")\n",
    "    st.dataframe(forecast_df)\n",
    "\n",
    "    # Visualize the prediction\n",
    "    st.write(\"### Forecast Plot\")\n",
    "    fig, ax = plt.subplots(figsize=(12, 6))\n",
    "    ax.plot(forecast_dates, future_forecast, label='Forecast', color='green', marker='o')\n",
    "    ax.set_title(\"Future Returns Forecast\")\n",
    "    ax.set_xlabel(\"Date\")\n",
    "    ax.set_ylabel(\"Forecasted Returns\")\n",
    "    ax.legend()\n",
    "    st.pyplot(fig)\n",
    "\n",
    "# Optional: Provide additional info about your model\n",
    "st.write(\"\"\"\n",
    "    This Holt-Winters model has been trained using historical stock data and can predict future returns to assist investors in making informed decisions.\n",
    "    The model helps to identify trends and make strategic decisions for purchasing or selling stocks to optimize profits.\n",
    "\"\"\")\n"
   ]
  },
  {
   "cell_type": "code",
   "execution_count": null,
   "id": "69c7305d-2f18-4115-aa84-6abf9af81c2f",
   "metadata": {},
   "outputs": [],
   "source": []
  },
  {
   "cell_type": "code",
   "execution_count": null,
   "id": "fec04253-fb03-40c8-8017-d56197eb7f05",
   "metadata": {},
   "outputs": [],
   "source": []
  }
 ],
 "metadata": {
  "kernelspec": {
   "display_name": "Python 3 (ipykernel)",
   "language": "python",
   "name": "python3"
  },
  "language_info": {
   "codemirror_mode": {
    "name": "ipython",
    "version": 3
   },
   "file_extension": ".py",
   "mimetype": "text/x-python",
   "name": "python",
   "nbconvert_exporter": "python",
   "pygments_lexer": "ipython3",
   "version": "3.10.9"
  }
 },
 "nbformat": 4,
 "nbformat_minor": 5
}
